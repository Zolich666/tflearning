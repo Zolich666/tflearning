{
 "cells": [
  {
   "cell_type": "code",
   "execution_count": 3,
   "metadata": {},
   "outputs": [
    {
     "name": "stdout",
     "output_type": "stream",
     "text": [
      "[-1.         -0.97979798 -0.95959596 -0.93939394 -0.91919192 -0.8989899\n",
      " -0.87878788 -0.85858586 -0.83838384 -0.81818182 -0.7979798  -0.77777778\n",
      " -0.75757576 -0.73737374 -0.71717172 -0.6969697  -0.67676768 -0.65656566\n",
      " -0.63636364 -0.61616162 -0.5959596  -0.57575758 -0.55555556 -0.53535354\n",
      " -0.51515152 -0.49494949 -0.47474747 -0.45454545 -0.43434343 -0.41414141\n",
      " -0.39393939 -0.37373737 -0.35353535 -0.33333333 -0.31313131 -0.29292929\n",
      " -0.27272727 -0.25252525 -0.23232323 -0.21212121 -0.19191919 -0.17171717\n",
      " -0.15151515 -0.13131313 -0.11111111 -0.09090909 -0.07070707 -0.05050505\n",
      " -0.03030303 -0.01010101  0.01010101  0.03030303  0.05050505  0.07070707\n",
      "  0.09090909  0.11111111  0.13131313  0.15151515  0.17171717  0.19191919\n",
      "  0.21212121  0.23232323  0.25252525  0.27272727  0.29292929  0.31313131\n",
      "  0.33333333  0.35353535  0.37373737  0.39393939  0.41414141  0.43434343\n",
      "  0.45454545  0.47474747  0.49494949  0.51515152  0.53535354  0.55555556\n",
      "  0.57575758  0.5959596   0.61616162  0.63636364  0.65656566  0.67676768\n",
      "  0.6969697   0.71717172  0.73737374  0.75757576  0.77777778  0.7979798\n",
      "  0.81818182  0.83838384  0.85858586  0.87878788  0.8989899   0.91919192\n",
      "  0.93939394  0.95959596  0.97979798  1.        ]\n",
      "[-2.24091222 -1.85284683 -1.88934357 -1.49105544 -1.70960001 -2.02663424\n",
      " -2.02199001 -1.83468505 -2.10455497 -2.06549519 -1.7705739  -2.23352452\n",
      " -1.7560194  -1.12095443 -1.61724711 -1.14872529 -1.52691682 -1.13321569\n",
      " -1.20067032 -0.68514477 -1.44615554 -1.95241523 -1.12679899 -0.86965428\n",
      " -1.31749876 -1.42808462 -0.62551333 -0.84999955 -1.08094989 -0.79005603\n",
      " -1.033302   -0.78436324 -0.97194876 -1.0116136  -0.94935262 -0.66841192\n",
      " -0.4927365  -0.36097831 -0.69448548 -0.2620599  -0.50029663 -0.05553439\n",
      " -0.69970662 -1.0193086   0.0566129  -0.41802224  0.1261673  -0.30138497\n",
      "  0.13128838  0.17068103  0.37906607 -0.20721617 -0.16490265  0.11013869\n",
      "  0.66388672 -0.46988316 -0.01951182  0.85900524  0.38450694  0.16027565\n",
      "  0.62172986  0.4594387   1.29559765  0.24166367  0.96625855  0.56577587\n",
      "  1.04038412  0.77627496  1.11291059  0.70607488  0.76959497  0.48799892\n",
      "  0.92496755  0.61916547  0.83757577  1.01254066  0.87305531  1.43314548\n",
      "  0.87788534  0.73533958  1.26260794  0.90924348  0.99315089  1.70503698\n",
      "  1.27565281  1.50779722  1.68134331  1.36371103  1.37324195  1.16904832\n",
      "  1.40661614  1.40958542  2.32915428  2.19521983  1.76662745  2.2397043\n",
      "  2.11726198  2.1596143   1.49848016  2.24271347]\n"
     ]
    },
    {
     "data": {
      "text/plain": [
       "<Figure size 640x480 with 1 Axes>"
      ]
     },
     "metadata": {},
     "output_type": "display_data"
    }
   ],
   "source": [
    "import tensorflow as tf\n",
    "import numpy as np\n",
    "import matplotlib.pyplot as plt\n",
    "\n",
    "train_X = np.linspace(-1, 1, 100) #X是[-1,1]之间100个线性点\n",
    "train_Y = 2 * train_X + np.random.randn(*train_X.shape) * 0.3\n",
    "#Y是X二倍加了一些噪点\n",
    "print(train_X)\n",
    "print(train_Y)\n",
    "\n",
    "plt.plot(train_X, train_Y, 'ro', label = 'Ori')\n",
    "plt.legend()\n",
    "plt.show()"
   ]
  },
  {
   "cell_type": "code",
   "execution_count": 4,
   "metadata": {},
   "outputs": [
    {
     "name": "stdout",
     "output_type": "stream",
     "text": [
      "WARNING:tensorflow:From d:\\python\\python36\\lib\\site-packages\\tensorflow\\python\\framework\\op_def_library.py:263: colocate_with (from tensorflow.python.framework.ops) is deprecated and will be removed in a future version.\n",
      "Instructions for updating:\n",
      "Colocations handled automatically by placer.\n",
      "Tensor(\"Placeholder:0\", dtype=float32)\n",
      "<tf.Variable 'weight:0' shape=(1,) dtype=float32_ref>\n",
      "<tf.Variable 'bias:0' shape=(1,) dtype=float32_ref>\n",
      "Tensor(\"add:0\", dtype=float32)\n"
     ]
    }
   ],
   "source": [
    "X = tf.placeholder(\"float\") #占位符？\n",
    "Y = tf.placeholder(\"float\")\n",
    "\n",
    "W = tf.Variable(tf.random_normal([1]), name = \"weight\")\n",
    "b = tf.Variable(tf.zeros([1]), name = \"bias\")\n",
    "\n",
    "z = tf.multiply(X, W) + b\n",
    "\n",
    "print(X)\n",
    "print(W)\n",
    "print(b)\n",
    "print(z)"
   ]
  },
  {
   "cell_type": "code",
   "execution_count": 5,
   "metadata": {},
   "outputs": [
    {
     "name": "stdout",
     "output_type": "stream",
     "text": [
      "WARNING:tensorflow:From d:\\python\\python36\\lib\\site-packages\\tensorflow\\python\\ops\\math_ops.py:3066: to_int32 (from tensorflow.python.ops.math_ops) is deprecated and will be removed in a future version.\n",
      "Instructions for updating:\n",
      "Use tf.cast instead.\n"
     ]
    }
   ],
   "source": [
    "cost = tf.reduce_mean(tf.square(Y - z)) #用方差当cost function\n",
    "learning_rate = 0.01\n",
    "optimizer = tf.train.GradientDescentOptimizer(learning_rate).minimize(cost) #梯度下降"
   ]
  },
  {
   "cell_type": "code",
   "execution_count": 6,
   "metadata": {},
   "outputs": [
    {
     "name": "stdout",
     "output_type": "stream",
     "text": [
      "Epoch: 1 cost= 0.349228 W= [1.3068327] b= [0.19422382]\n",
      "Epoch: 3 cost= 0.11515496 W= [1.8721713] b= [0.03861988]\n",
      "Epoch: 5 cost= 0.0966218 W= [2.0250232] b= [-0.01900411]\n",
      "Epoch: 7 cost= 0.095491864 W= [2.064658] b= [-0.03419636]\n",
      "Epoch: 9 cost= 0.09544866 W= [2.074909] b= [-0.03812968]\n",
      "Epoch: 11 cost= 0.09545414 W= [2.077559] b= [-0.03914668]\n",
      "Epoch: 13 cost= 0.095456675 W= [2.0782444] b= [-0.03940993]\n",
      "Epoch: 15 cost= 0.095457405 W= [2.0784223] b= [-0.03947797]\n",
      "Epoch: 17 cost= 0.09545761 W= [2.0784695] b= [-0.0394961]\n",
      "Epoch: 19 cost= 0.09545766 W= [2.0784814] b= [-0.03950064]\n",
      "Finished!\n",
      "cost= 0.09545765 W= [2.0784836] b= [-0.0395015]\n"
     ]
    }
   ],
   "source": [
    "init = tf.global_variables_initializer()\n",
    "\n",
    "training_epochs = 20\n",
    "display_step = 2\n",
    "\n",
    "with tf.Session() as sess:\n",
    "    sess.run(init)\n",
    "    plotdata = {\"batchsize\":[], \"loss\":[]}\n",
    "    \n",
    "    for epoch in range(training_epochs):\n",
    "        for (x, y) in zip(train_X, train_Y):\n",
    "            sess.run(optimizer, feed_dict = {X: x, Y: y})\n",
    "            \n",
    "        if epoch % display_step == 0:\n",
    "            loss = sess.run(cost, feed_dict = {X: train_X, Y: train_Y})\n",
    "            print(\"Epoch:\", epoch+1,\"cost=\", loss, \"W=\", sess.run(W), \n",
    "                 \"b=\", sess.run(b))\n",
    "            if not (loss == \"NA\" ):\n",
    "                plotdata[\"batchsize\"].append(epoch)\n",
    "                plotdata[\"loss\"].append(loss)\n",
    "                \n",
    "    print(\"Finished!\")\n",
    "    print(\"cost=\", sess.run(cost, feed_dict={X: train_X, Y: train_Y}), \n",
    "          \"W=\", sess.run(W), \"b=\", sess.run(b))"
   ]
  }
 ],
 "metadata": {
  "kernelspec": {
   "display_name": "Python 3",
   "language": "python",
   "name": "python3"
  },
  "language_info": {
   "codemirror_mode": {
    "name": "ipython",
    "version": 3
   },
   "file_extension": ".py",
   "mimetype": "text/x-python",
   "name": "python",
   "nbconvert_exporter": "python",
   "pygments_lexer": "ipython3",
   "version": "3.6.4"
  }
 },
 "nbformat": 4,
 "nbformat_minor": 2
}
